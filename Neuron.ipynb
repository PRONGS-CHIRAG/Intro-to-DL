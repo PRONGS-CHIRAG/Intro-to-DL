{
 "cells": [
  {
   "cell_type": "code",
   "execution_count": 1,
   "id": "03c5b5fc",
   "metadata": {},
   "outputs": [],
   "source": [
    "from tensorflow import keras\n",
    "from tensorflow.keras import layers"
   ]
  },
  {
   "cell_type": "code",
   "execution_count": 2,
   "id": "09e85213",
   "metadata": {},
   "outputs": [],
   "source": [
    "# creating a network with 1 linear unit\n",
    "'''\n",
    "keras.Sequential - creates a neural network as a stack of layers\n",
    "units refer to the number of outputs \n",
    "input_shape refers to dimensions of input\n",
    "'''\n",
    "model = keras.Sequential([layers.Dense(units=1,input_shape=[3])])"
   ]
  },
  {
   "cell_type": "code",
   "execution_count": null,
   "id": "d4758e04",
   "metadata": {},
   "outputs": [],
   "source": []
  }
 ],
 "metadata": {
  "kernelspec": {
   "display_name": "Python 3",
   "language": "python",
   "name": "python3"
  },
  "language_info": {
   "codemirror_mode": {
    "name": "ipython",
    "version": 3
   },
   "file_extension": ".py",
   "mimetype": "text/x-python",
   "name": "python",
   "nbconvert_exporter": "python",
   "pygments_lexer": "ipython3",
   "version": "3.5.6"
  }
 },
 "nbformat": 4,
 "nbformat_minor": 5
}
